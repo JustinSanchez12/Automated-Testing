{
 "cells": [
  {
   "cell_type": "code",
   "execution_count": 1,
   "id": "30717f4e-e40d-43ce-b52f-93020fdc06b3",
   "metadata": {},
   "outputs": [],
   "source": [
    "from selenium import webdriver as wd\n",
    "import time\n",
    "from selenium.webdriver.common.keys import Keys\n",
    "from webdriver_manager.chrome import ChromeDriverManager"
   ]
  },
  {
   "cell_type": "code",
   "execution_count": 2,
   "id": "ecfb0636-87eb-456d-963d-fa9b169d4851",
   "metadata": {},
   "outputs": [],
   "source": [
    "wd = wd.Chrome(ChromeDriverManager().install()) #Always uses latest updated version of WebDriver\n",
    "wd.get('https://google.com') #Opens up Google"
   ]
  },
  {
   "cell_type": "code",
   "execution_count": 3,
   "id": "318dc1a0-2c82-452c-a74a-aed5339f2b88",
   "metadata": {},
   "outputs": [],
   "source": [
    "#lets user see and loads element\n",
    "\n",
    "time.sleep(2)\n",
    "search = wd.find_elements_by_xpath('//*[@id=\"gb\"]/div/div[1]/div/div[2]/a')"
   ]
  },
  {
   "cell_type": "code",
   "execution_count": 4,
   "id": "639f9120-f007-4236-ae4b-5b074f5aeab1",
   "metadata": {},
   "outputs": [],
   "source": [
    "search[0].click() #clicks on images"
   ]
  },
  {
   "cell_type": "code",
   "execution_count": 5,
   "id": "0479335d-7a32-4f03-9263-60abffcb6208",
   "metadata": {},
   "outputs": [],
   "source": [
    "#Searches \"Honda Civics\" on the search bar\n",
    "\n",
    "searchID = wd.find_element_by_xpath('/html/body/div[1]/div[3]/form/div[1]/div[1]/div[1]/div/div[2]/input')\n",
    "searchID.send_keys(\"Honda Civics\")"
   ]
  },
  {
   "cell_type": "code",
   "execution_count": 6,
   "id": "38f713a4-e309-496e-9d8d-61910cdbff7f",
   "metadata": {},
   "outputs": [],
   "source": [
    "#Clicks on the search button\n",
    "\n",
    "searchButton = wd.find_elements_by_xpath('/html/body/div[1]/div[3]/form/div[1]/div[1]/div[1]/button')\n",
    "searchButton[0].click()"
   ]
  },
  {
   "cell_type": "code",
   "execution_count": 7,
   "id": "a8bb3879-c650-48de-a832-0eff54b73648",
   "metadata": {},
   "outputs": [],
   "source": [
    "wd.close() #Closes Browser"
   ]
  }
 ],
 "metadata": {
  "kernelspec": {
   "display_name": "Python 3 (ipykernel)",
   "language": "python",
   "name": "python3"
  },
  "language_info": {
   "codemirror_mode": {
    "name": "ipython",
    "version": 3
   },
   "file_extension": ".py",
   "mimetype": "text/x-python",
   "name": "python",
   "nbconvert_exporter": "python",
   "pygments_lexer": "ipython3",
   "version": "3.9.7"
  }
 },
 "nbformat": 4,
 "nbformat_minor": 5
}
